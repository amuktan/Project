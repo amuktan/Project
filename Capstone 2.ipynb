{
    "nbformat_minor": 1, 
    "cells": [
        {
            "source": "Lets say I am contemplating my choice of stay at either Downtown Toronto, Harbourfront at 10 Capreol Court, Toronto, ON, Canada Or \nat 10 Capreol Court, Toronto, ON, Canada. I like italian food and I am considering the number of resaturants around me as the basis of my choice. I would chose the one which has a greater choice for me. Hence, I will be using Foursquare in my decision making.", 
            "cell_type": "markdown", 
            "metadata": {
                "collapsed": true
            }
        }, 
        {
            "execution_count": 1, 
            "cell_type": "code", 
            "metadata": {}, 
            "outputs": [
                {
                    "output_type": "stream", 
                    "name": "stdout", 
                    "text": "Fetching package metadata .............\nSolving package specifications: .\n\nPackage plan for installation in environment /opt/conda/envs/DSX-Python35:\n\nThe following NEW packages will be INSTALLED:\n\n    geographiclib: 1.49-py_0   conda-forge\n    geopy:         1.18.1-py_0 conda-forge\n\ngeographiclib- 100% |################################| Time: 0:00:00  25.20 MB/s\ngeopy-1.18.1-p 100% |################################| Time: 0:00:00  36.00 MB/s\nFetching package metadata .............\nSolving package specifications: .\n\nPackage plan for installation in environment /opt/conda/envs/DSX-Python35:\n\nThe following NEW packages will be INSTALLED:\n\n    altair:  2.2.2-py35_1 conda-forge\n    branca:  0.3.1-py_0   conda-forge\n    folium:  0.5.0-py_0   conda-forge\n    vincent: 0.4.4-py_1   conda-forge\n\naltair-2.2.2-p 100% |################################| Time: 0:00:00  51.56 MB/s\nbranca-0.3.1-p 100% |################################| Time: 0:00:00  36.27 MB/s\nvincent-0.4.4- 100% |################################| Time: 0:00:00  38.61 MB/s\nfolium-0.5.0-p 100% |################################| Time: 0:00:00  47.34 MB/s\nFolium installed\nLibraries imported.\n"
                }
            ], 
            "source": "import requests \nimport pandas as pd\nimport random \nimport numpy as np\n\n!conda install -c conda-forge geopy --yes \nfrom geopy.geocoders import Nominatim \n\n\nfrom IPython.display import Image \nfrom IPython.core.display import HTML \n    \n\nfrom pandas.io.json import json_normalize\n\n!conda install -c conda-forge folium=0.5.0 --yes\nimport folium \n\nprint('Folium installed')\nprint('Libraries imported.')"
        }, 
        {
            "execution_count": 2, 
            "cell_type": "code", 
            "metadata": {}, 
            "outputs": [
                {
                    "output_type": "stream", 
                    "name": "stdout", 
                    "text": "Your credentails:\nCLIENT_ID: D5NKPYRJW3AJIBSHPTVSXHBKKA12ZJ0XG3YDAAWOI43DQMUQ\nCLIENT_SECRET:3HNFANGIDWUV2PUQN5PUQ0NLGWR5C4LZM1S4QFYAZ15ZO1IO\n"
                }
            ], 
            "source": "CLIENT_ID = 'D5NKPYRJW3AJIBSHPTVSXHBKKA12ZJ0XG3YDAAWOI43DQMUQ' \nCLIENT_SECRET = '3HNFANGIDWUV2PUQN5PUQ0NLGWR5C4LZM1S4QFYAZ15ZO1IO' \nVERSION = '20180604'\nLIMIT = 30\nprint('Your credentails:')\nprint('CLIENT_ID: ' + CLIENT_ID)\nprint('CLIENT_SECRET:' + CLIENT_SECRET)"
        }, 
        {
            "execution_count": 3, 
            "cell_type": "code", 
            "metadata": {}, 
            "outputs": [
                {
                    "output_type": "stream", 
                    "name": "stdout", 
                    "text": "43.6403625 -79.3960908\n"
                }
            ], 
            "source": "address = '10 Capreol Court, Toronto, ON, Canada'\n\ngeolocator = Nominatim(user_agent=\"foursquare_agent\")\nlocation = geolocator.geocode(address)\nlatitude = location.latitude\nlongitude = location.longitude\nprint(latitude, longitude)"
        }, 
        {
            "execution_count": 15, 
            "cell_type": "code", 
            "metadata": {}, 
            "outputs": [
                {
                    "output_type": "stream", 
                    "name": "stdout", 
                    "text": "Italian .... OK!\n"
                }
            ], 
            "source": "search_query = 'Italian'\nradius = 500\nprint(search_query + ' .... OK!')"
        }, 
        {
            "execution_count": 16, 
            "cell_type": "code", 
            "metadata": {}, 
            "outputs": [
                {
                    "execution_count": 16, 
                    "metadata": {}, 
                    "data": {
                        "text/plain": "'https://api.foursquare.com/v2/venues/search?client_id=D5NKPYRJW3AJIBSHPTVSXHBKKA12ZJ0XG3YDAAWOI43DQMUQ&client_secret=3HNFANGIDWUV2PUQN5PUQ0NLGWR5C4LZM1S4QFYAZ15ZO1IO&ll=43.6403625,-79.3960908&v=20180604&query=Italian&radius=500&limit=30'"
                    }, 
                    "output_type": "execute_result"
                }
            ], 
            "source": "url = 'https://api.foursquare.com/v2/venues/search?client_id={}&client_secret={}&ll={},{}&v={}&query={}&radius={}&limit={}'.format(CLIENT_ID, CLIENT_SECRET, latitude, longitude, VERSION, search_query, radius, LIMIT)\nurl"
        }, 
        {
            "execution_count": 10, 
            "cell_type": "code", 
            "metadata": {}, 
            "outputs": [
                {
                    "execution_count": 10, 
                    "metadata": {}, 
                    "data": {
                        "text/plain": "{'meta': {'code': 200, 'requestId': '5c4ca7bbdb04f57ab42fba3e'},\n 'response': {'venues': [{'categories': [{'icon': {'prefix': 'https://ss3.4sqi.net/img/categories_v2/food/italian_',\n       'suffix': '.png'},\n      'id': '4bf58dd8d48988d110941735',\n      'name': 'Italian Restaurant',\n      'pluralName': 'Italian Restaurants',\n      'primary': True,\n      'shortName': 'Italian'}],\n    'hasPerk': False,\n    'id': '4fdf5390e4b0d263e8a3bcd6',\n    'location': {'cc': 'CA',\n     'country': 'Canada',\n     'distance': 552,\n     'formattedAddress': ['Canada'],\n     'labeledLatLngs': [{'label': 'display',\n       'lat': 43.644645,\n       'lng': -79.399556}],\n     'lat': 43.644645,\n     'lng': -79.399556},\n    'name': 'Gourment italian Sandwichs',\n    'referralId': 'v-1548527547'}]}}"
                    }, 
                    "output_type": "execute_result"
                }
            ], 
            "source": "results = requests.get(url).json()\nresults"
        }, 
        {
            "execution_count": 17, 
            "cell_type": "code", 
            "metadata": {}, 
            "outputs": [
                {
                    "execution_count": 17, 
                    "metadata": {}, 
                    "data": {
                        "text/html": "<div>\n<style scoped>\n    .dataframe tbody tr th:only-of-type {\n        vertical-align: middle;\n    }\n\n    .dataframe tbody tr th {\n        vertical-align: top;\n    }\n\n    .dataframe thead th {\n        text-align: right;\n    }\n</style>\n<table border=\"1\" class=\"dataframe\">\n  <thead>\n    <tr style=\"text-align: right;\">\n      <th></th>\n      <th>categories</th>\n      <th>hasPerk</th>\n      <th>id</th>\n      <th>location.cc</th>\n      <th>location.country</th>\n      <th>location.distance</th>\n      <th>location.formattedAddress</th>\n      <th>location.labeledLatLngs</th>\n      <th>location.lat</th>\n      <th>location.lng</th>\n      <th>name</th>\n      <th>referralId</th>\n    </tr>\n  </thead>\n  <tbody>\n    <tr>\n      <th>0</th>\n      <td>[{'pluralName': 'Italian Restaurants', 'icon':...</td>\n      <td>False</td>\n      <td>4fdf5390e4b0d263e8a3bcd6</td>\n      <td>CA</td>\n      <td>Canada</td>\n      <td>552</td>\n      <td>[Canada]</td>\n      <td>[{'lat': 43.644645, 'label': 'display', 'lng':...</td>\n      <td>43.644645</td>\n      <td>-79.399556</td>\n      <td>Gourment italian Sandwichs</td>\n      <td>v-1548527547</td>\n    </tr>\n  </tbody>\n</table>\n</div>", 
                        "text/plain": "                                          categories  hasPerk  \\\n0  [{'pluralName': 'Italian Restaurants', 'icon':...    False   \n\n                         id location.cc location.country  location.distance  \\\n0  4fdf5390e4b0d263e8a3bcd6          CA           Canada                552   \n\n  location.formattedAddress  \\\n0                  [Canada]   \n\n                             location.labeledLatLngs  location.lat  \\\n0  [{'lat': 43.644645, 'label': 'display', 'lng':...     43.644645   \n\n   location.lng                        name    referralId  \n0    -79.399556  Gourment italian Sandwichs  v-1548527547  "
                    }, 
                    "output_type": "execute_result"
                }
            ], 
            "source": "venues = results['response']['venues']\ndataframe = json_normalize(venues)\ndataframe.head()"
        }, 
        {
            "execution_count": 18, 
            "cell_type": "code", 
            "metadata": {}, 
            "outputs": [
                {
                    "execution_count": 18, 
                    "metadata": {}, 
                    "data": {
                        "text/html": "<div>\n<style scoped>\n    .dataframe tbody tr th:only-of-type {\n        vertical-align: middle;\n    }\n\n    .dataframe tbody tr th {\n        vertical-align: top;\n    }\n\n    .dataframe thead th {\n        text-align: right;\n    }\n</style>\n<table border=\"1\" class=\"dataframe\">\n  <thead>\n    <tr style=\"text-align: right;\">\n      <th></th>\n      <th>name</th>\n      <th>categories</th>\n      <th>cc</th>\n      <th>country</th>\n      <th>distance</th>\n      <th>formattedAddress</th>\n      <th>labeledLatLngs</th>\n      <th>lat</th>\n      <th>lng</th>\n      <th>id</th>\n    </tr>\n  </thead>\n  <tbody>\n    <tr>\n      <th>0</th>\n      <td>Gourment italian Sandwichs</td>\n      <td>Italian Restaurant</td>\n      <td>CA</td>\n      <td>Canada</td>\n      <td>552</td>\n      <td>[Canada]</td>\n      <td>[{'lat': 43.644645, 'label': 'display', 'lng':...</td>\n      <td>43.644645</td>\n      <td>-79.399556</td>\n      <td>4fdf5390e4b0d263e8a3bcd6</td>\n    </tr>\n  </tbody>\n</table>\n</div>", 
                        "text/plain": "                         name          categories  cc country  distance  \\\n0  Gourment italian Sandwichs  Italian Restaurant  CA  Canada       552   \n\n  formattedAddress                                     labeledLatLngs  \\\n0         [Canada]  [{'lat': 43.644645, 'label': 'display', 'lng':...   \n\n         lat        lng                        id  \n0  43.644645 -79.399556  4fdf5390e4b0d263e8a3bcd6  "
                    }, 
                    "output_type": "execute_result"
                }
            ], 
            "source": "\nfiltered_columns = ['name', 'categories'] + [col for col in dataframe.columns if col.startswith('location.')] + ['id']\ndataframe_filtered = dataframe.loc[:, filtered_columns]\n\n\ndef get_category_type(row):\n    try:\n        categories_list = row['categories']\n    except:\n        categories_list = row['venue.categories']\n        \n    if len(categories_list) == 0:\n        return None\n    else:\n        return categories_list[0]['name']\n\n\ndataframe_filtered['categories'] = dataframe_filtered.apply(get_category_type, axis=1)\n\n\ndataframe_filtered.columns = [column.split('.')[-1] for column in dataframe_filtered.columns]\n\ndataframe_filtered\n"
        }, 
        {
            "execution_count": 19, 
            "cell_type": "code", 
            "metadata": {}, 
            "outputs": [
                {
                    "execution_count": 19, 
                    "metadata": {}, 
                    "data": {
                        "text/plain": "0    Gourment italian Sandwichs\nName: name, dtype: object"
                    }, 
                    "output_type": "execute_result"
                }
            ], 
            "source": "dataframe_filtered.name"
        }, 
        {
            "execution_count": 20, 
            "cell_type": "code", 
            "metadata": {}, 
            "outputs": [
                {
                    "execution_count": 20, 
                    "metadata": {}, 
                    "data": {
                        "text/html": "<div style=\"width:100%;\"><div style=\"position:relative;width:100%;height:0;padding-bottom:60%;\"><iframe src=\"data:text/html;charset=utf-8;base64,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\" style=\"position:absolute;width:100%;height:100%;left:0;top:0;border:none !important;\" allowfullscreen webkitallowfullscreen mozallowfullscreen></iframe></div></div>", 
                        "text/plain": "<folium.folium.Map at 0x7f35ec6fc630>"
                    }, 
                    "output_type": "execute_result"
                }
            ], 
            "source": "venues_map = folium.Map(location=[latitude, longitude], zoom_start=13) \n\n\nfolium.features.CircleMarker(\n    [latitude, longitude],\n    radius=10,\n    color='red',\n    popup='Conrad Hotel',\n    fill = True,\n    fill_color = 'red',\n    fill_opacity = 0.6\n).add_to(venues_map)\n\n\nfor lat, lng, label in zip(dataframe_filtered.lat, dataframe_filtered.lng, dataframe_filtered.categories):\n    folium.features.CircleMarker(\n        [lat, lng],\n        radius=5,\n        color='blue',\n        popup=label,\n        fill = True,\n        fill_color='blue',\n        fill_opacity=0.6\n    ).add_to(venues_map)\n\n\nvenues_map"
        }, 
        {
            "execution_count": null, 
            "cell_type": "code", 
            "metadata": {}, 
            "outputs": [], 
            "source": "Lets try another neighborhood at 10 York St, Toronto, ON"
        }, 
        {
            "execution_count": 21, 
            "cell_type": "code", 
            "metadata": {}, 
            "outputs": [
                {
                    "output_type": "stream", 
                    "name": "stdout", 
                    "text": "43.6424814 -79.3813058\n"
                }
            ], 
            "source": "address = '10 York St, Toronto, ON, Canada'\n\ngeolocator = Nominatim(user_agent=\"foursquare_agent\")\nlocation = geolocator.geocode(address)\nlatitude = location.latitude\nlongitude = location.longitude\nprint(latitude, longitude)"
        }, 
        {
            "execution_count": 22, 
            "cell_type": "code", 
            "metadata": {}, 
            "outputs": [
                {
                    "output_type": "stream", 
                    "name": "stdout", 
                    "text": "Italian .... OK!\n"
                }
            ], 
            "source": "search_query = 'Italian'\nradius = 500\nprint(search_query + ' .... OK!')"
        }, 
        {
            "execution_count": 23, 
            "cell_type": "code", 
            "metadata": {}, 
            "outputs": [
                {
                    "execution_count": 23, 
                    "metadata": {}, 
                    "data": {
                        "text/plain": "'https://api.foursquare.com/v2/venues/search?client_id=D5NKPYRJW3AJIBSHPTVSXHBKKA12ZJ0XG3YDAAWOI43DQMUQ&client_secret=3HNFANGIDWUV2PUQN5PUQ0NLGWR5C4LZM1S4QFYAZ15ZO1IO&ll=43.6424814,-79.3813058&v=20180604&query=Italian&radius=500&limit=30'"
                    }, 
                    "output_type": "execute_result"
                }
            ], 
            "source": "url = 'https://api.foursquare.com/v2/venues/search?client_id={}&client_secret={}&ll={},{}&v={}&query={}&radius={}&limit={}'.format(CLIENT_ID, CLIENT_SECRET, latitude, longitude, VERSION, search_query, radius, LIMIT)\nurl"
        }, 
        {
            "execution_count": 27, 
            "cell_type": "code", 
            "metadata": {}, 
            "outputs": [
                {
                    "execution_count": 27, 
                    "metadata": {}, 
                    "data": {
                        "text/plain": "{'meta': {'code': 200, 'requestId': '5c4caa7bdb04f57ab194f4fe'},\n 'response': {'venues': [{'categories': [{'icon': {'prefix': 'https://ss3.4sqi.net/img/categories_v2/food/italian_',\n       'suffix': '.png'},\n      'id': '4bf58dd8d48988d110941735',\n      'name': 'Italian Restaurant',\n      'pluralName': 'Italian Restaurants',\n      'primary': True,\n      'shortName': 'Italian'}],\n    'hasPerk': False,\n    'id': '5b897e92db1d81002c91df8c',\n    'location': {'address': '66 Wellington St W',\n     'cc': 'CA',\n     'city': 'Toronto',\n     'country': 'Canada',\n     'distance': 521,\n     'formattedAddress': ['66 Wellington St W',\n      'Toronto ON M5K 1E7',\n      'Canada'],\n     'labeledLatLngs': [{'label': 'display',\n       'lat': 43.647161,\n       'lng': -79.381691}],\n     'lat': 43.647161,\n     'lng': -79.381691,\n     'postalCode': 'M5K 1E7',\n     'state': 'ON'},\n    'name': 'Fabbrica Rustic Italian',\n    'referralId': 'v-1548528251'},\n   {'categories': [{'icon': {'prefix': 'https://ss3.4sqi.net/img/categories_v2/food/italian_',\n       'suffix': '.png'},\n      'id': '4bf58dd8d48988d110941735',\n      'name': 'Italian Restaurant',\n      'pluralName': 'Italian Restaurants',\n      'primary': True,\n      'shortName': 'Italian'}],\n    'hasPerk': False,\n    'id': '4aa9328df964a5206b5220e3',\n    'location': {'address': '156 Front St W',\n     'cc': 'CA',\n     'city': 'Toronto',\n     'country': 'Canada',\n     'crossStreet': 'at Simcoe St',\n     'distance': 420,\n     'formattedAddress': ['156 Front St W (at Simcoe St)',\n      'Toronto ON M5J 2L6',\n      'Canada'],\n     'labeledLatLngs': [{'label': 'display',\n       'lat': 43.645129694026686,\n       'lng': -79.3850249304319}],\n     'lat': 43.645129694026686,\n     'lng': -79.3850249304319,\n     'postalCode': 'M5J 2L6',\n     'state': 'ON'},\n    'name': \"Joe Badali's Ristorante Italiano & Bar\",\n    'referralId': 'v-1548528251'},\n   {'categories': [{'icon': {'prefix': 'https://ss3.4sqi.net/img/categories_v2/food/italian_',\n       'suffix': '.png'},\n      'id': '4bf58dd8d48988d110941735',\n      'name': 'Italian Restaurant',\n      'pluralName': 'Italian Restaurants',\n      'primary': True,\n      'shortName': 'Italian'}],\n    'hasPerk': False,\n    'id': '4b7d777df964a52043c02fe3',\n    'location': {'address': '55 University Ave.',\n     'cc': 'CA',\n     'city': 'Toronto',\n     'country': 'Canada',\n     'crossStreet': 'in Markel Building',\n     'distance': 502,\n     'formattedAddress': ['55 University Ave. (in Markel Building)',\n      'Toronto ON M5J 2H7',\n      'Canada'],\n     'labeledLatLngs': [{'label': 'display',\n       'lat': 43.646547314182634,\n       'lng': -79.38402865696358}],\n     'lat': 43.646547314182634,\n     'lng': -79.38402865696358,\n     'postalCode': 'M5J 2H7',\n     'state': 'ON'},\n    'name': 'Saut\u00e9 Ros\u00e9',\n    'referralId': 'v-1548528251'}]}}"
                    }, 
                    "output_type": "execute_result"
                }
            ], 
            "source": "results = requests.get(url).json()\nresults\n"
        }, 
        {
            "execution_count": 29, 
            "cell_type": "code", 
            "metadata": {}, 
            "outputs": [
                {
                    "execution_count": 29, 
                    "metadata": {}, 
                    "data": {
                        "text/html": "<div>\n<style scoped>\n    .dataframe tbody tr th:only-of-type {\n        vertical-align: middle;\n    }\n\n    .dataframe tbody tr th {\n        vertical-align: top;\n    }\n\n    .dataframe thead th {\n        text-align: right;\n    }\n</style>\n<table border=\"1\" class=\"dataframe\">\n  <thead>\n    <tr style=\"text-align: right;\">\n      <th></th>\n      <th>name</th>\n      <th>categories</th>\n      <th>address</th>\n      <th>cc</th>\n      <th>city</th>\n      <th>country</th>\n      <th>crossStreet</th>\n      <th>distance</th>\n      <th>formattedAddress</th>\n      <th>labeledLatLngs</th>\n      <th>lat</th>\n      <th>lng</th>\n      <th>postalCode</th>\n      <th>state</th>\n      <th>id</th>\n    </tr>\n  </thead>\n  <tbody>\n    <tr>\n      <th>0</th>\n      <td>Fabbrica Rustic Italian</td>\n      <td>Italian Restaurant</td>\n      <td>66 Wellington St W</td>\n      <td>CA</td>\n      <td>Toronto</td>\n      <td>Canada</td>\n      <td>NaN</td>\n      <td>521</td>\n      <td>[66 Wellington St W, Toronto ON M5K 1E7, Canada]</td>\n      <td>[{'lat': 43.647161, 'label': 'display', 'lng':...</td>\n      <td>43.647161</td>\n      <td>-79.381691</td>\n      <td>M5K 1E7</td>\n      <td>ON</td>\n      <td>5b897e92db1d81002c91df8c</td>\n    </tr>\n    <tr>\n      <th>1</th>\n      <td>Joe Badali's Ristorante Italiano &amp; Bar</td>\n      <td>Italian Restaurant</td>\n      <td>156 Front St W</td>\n      <td>CA</td>\n      <td>Toronto</td>\n      <td>Canada</td>\n      <td>at Simcoe St</td>\n      <td>420</td>\n      <td>[156 Front St W (at Simcoe St), Toronto ON M5J...</td>\n      <td>[{'lat': 43.645129694026686, 'label': 'display...</td>\n      <td>43.645130</td>\n      <td>-79.385025</td>\n      <td>M5J 2L6</td>\n      <td>ON</td>\n      <td>4aa9328df964a5206b5220e3</td>\n    </tr>\n    <tr>\n      <th>2</th>\n      <td>Saut\u00e9 Ros\u00e9</td>\n      <td>Italian Restaurant</td>\n      <td>55 University Ave.</td>\n      <td>CA</td>\n      <td>Toronto</td>\n      <td>Canada</td>\n      <td>in Markel Building</td>\n      <td>502</td>\n      <td>[55 University Ave. (in Markel Building), Toro...</td>\n      <td>[{'lat': 43.646547314182634, 'label': 'display...</td>\n      <td>43.646547</td>\n      <td>-79.384029</td>\n      <td>M5J 2H7</td>\n      <td>ON</td>\n      <td>4b7d777df964a52043c02fe3</td>\n    </tr>\n  </tbody>\n</table>\n</div>", 
                        "text/plain": "                                     name          categories  \\\n0                 Fabbrica Rustic Italian  Italian Restaurant   \n1  Joe Badali's Ristorante Italiano & Bar  Italian Restaurant   \n2                              Saut\u00e9 Ros\u00e9  Italian Restaurant   \n\n              address  cc     city country         crossStreet  distance  \\\n0  66 Wellington St W  CA  Toronto  Canada                 NaN       521   \n1      156 Front St W  CA  Toronto  Canada        at Simcoe St       420   \n2  55 University Ave.  CA  Toronto  Canada  in Markel Building       502   \n\n                                    formattedAddress  \\\n0   [66 Wellington St W, Toronto ON M5K 1E7, Canada]   \n1  [156 Front St W (at Simcoe St), Toronto ON M5J...   \n2  [55 University Ave. (in Markel Building), Toro...   \n\n                                      labeledLatLngs        lat        lng  \\\n0  [{'lat': 43.647161, 'label': 'display', 'lng':...  43.647161 -79.381691   \n1  [{'lat': 43.645129694026686, 'label': 'display...  43.645130 -79.385025   \n2  [{'lat': 43.646547314182634, 'label': 'display...  43.646547 -79.384029   \n\n  postalCode state                        id  \n0    M5K 1E7    ON  5b897e92db1d81002c91df8c  \n1    M5J 2L6    ON  4aa9328df964a5206b5220e3  \n2    M5J 2H7    ON  4b7d777df964a52043c02fe3  "
                    }, 
                    "output_type": "execute_result"
                }
            ], 
            "source": "venues = results['response']['venues']\ndataframe2 = json_normalize(venues)\ndataframe2.head()\n\n\n\n\nfiltered_columns2 = ['name', 'categories'] + [col for col in dataframe2.columns if col.startswith('location.')] + ['id']\ndataframe_2 = dataframe2.loc[:, filtered_columns2]\n\n\ndef get_category_type(row):\n    try:\n        categories_list = row['categories']\n    except:\n        categories_list = row['venue.categories']\n        \n    if len(categories_list) == 0:\n        return None\n    else:\n        return categories_list[0]['name']\n\n\ndataframe_2['categories'] = dataframe_2.apply(get_category_type, axis=1)\n\n\ndataframe_2.columns = [column.split('.')[-1] for column in dataframe_2.columns]\n\ndataframe_2"
        }, 
        {
            "execution_count": 30, 
            "cell_type": "code", 
            "metadata": {}, 
            "outputs": [
                {
                    "execution_count": 30, 
                    "metadata": {}, 
                    "data": {
                        "text/html": "<div style=\"width:100%;\"><div style=\"position:relative;width:100%;height:0;padding-bottom:60%;\"><iframe src=\"data:text/html;charset=utf-8;base64,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\" style=\"position:absolute;width:100%;height:100%;left:0;top:0;border:none !important;\" allowfullscreen webkitallowfullscreen mozallowfullscreen></iframe></div></div>", 
                        "text/plain": "<folium.folium.Map at 0x7f35ec6adba8>"
                    }, 
                    "output_type": "execute_result"
                }
            ], 
            "source": "venues_map = folium.Map(location=[latitude, longitude], zoom_start=13) \n\nfolium.features.CircleMarker(\n    [latitude, longitude],\n    radius=10,\n    color='red',\n    popup='Conrad Hotel',\n    fill = True,\n    fill_color = 'red',\n    fill_opacity = 0.6\n).add_to(venues_map)\n\n\nfor lat, lng, label in zip(dataframe_2.lat, dataframe_2.lng, dataframe_2.categories):\n    folium.features.CircleMarker(\n        [lat, lng],\n        radius=5,\n        color='blue',\n        popup=label,\n        fill = True,\n        fill_color='blue',\n        fill_opacity=0.6\n    ).add_to(venues_map)\n\n\nvenues_map"
        }, 
        {
            "source": "Clearly, I would be staying in 10 York St, Toronto, ON, Canada as it has more choice among italian restaurants.", 
            "cell_type": "markdown", 
            "metadata": {}
        }
    ], 
    "metadata": {
        "kernelspec": {
            "display_name": "Python 3.5", 
            "name": "python3", 
            "language": "python"
        }, 
        "language_info": {
            "mimetype": "text/x-python", 
            "nbconvert_exporter": "python", 
            "version": "3.5.5", 
            "name": "python", 
            "file_extension": ".py", 
            "pygments_lexer": "ipython3", 
            "codemirror_mode": {
                "version": 3, 
                "name": "ipython"
            }
        }
    }, 
    "nbformat": 4
}