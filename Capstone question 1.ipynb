{
    "nbformat_minor": 1, 
    "cells": [
        {
            "source": "Introduction: \nProblem statememt: Lets say I am contemplating my choice of stay at either Downtown Toronto, Harbourfront at 10 Capreol Court, \n    Toronto, ON, Canada Or at 10 Capreol Court, Toronto, ON, Canada. I like italian food and I am considering the number of\n    resaturants around me as the basis of my choice. I would chose the one which has a greater choice for me. \n    Hence, I will be using FourSquare in my decision making.\nAnalysis: I will use FourSquare to get access to the available restaurants around my chosen place and then \nmake a decision based on the results.", 
            "cell_type": "markdown", 
            "metadata": {
                "collapsed": true
            }
        }, 
        {
            "source": "Data: The data has been retrieved from FourSquare", 
            "cell_type": "markdown", 
            "metadata": {}
        }, 
        {
            "source": "Methodology: I have taken the venues achieved from Foursquare data and have mapped them so as to have a clear idea of the distance \n    of the venues from my location.", 
            "cell_type": "markdown", 
            "metadata": {}
        }, 
        {
            "source": "Results: From my analysis, my 1st choice had 1 and my 2nd choice had 3 italian restaurants around the area.", 
            "cell_type": "markdown", 
            "metadata": {}
        }, 
        {
            "source": "Discussion and Conclusion: As from my analysis, there are 3 restaurants around my 2nd choice and hence I willbe going ahead with\n    that one.", 
            "cell_type": "markdown", 
            "metadata": {}
        }
    ], 
    "metadata": {
        "kernelspec": {
            "display_name": "Python 3.5", 
            "name": "python3", 
            "language": "python"
        }, 
        "language_info": {
            "mimetype": "text/x-python", 
            "nbconvert_exporter": "python", 
            "version": "3.5.5", 
            "name": "python", 
            "file_extension": ".py", 
            "pygments_lexer": "ipython3", 
            "codemirror_mode": {
                "version": 3, 
                "name": "ipython"
            }
        }
    }, 
    "nbformat": 4
}