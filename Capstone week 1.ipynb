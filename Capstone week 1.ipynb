{
    "nbformat_minor": 1, 
    "cells": [
        {
            "source": "Problem statememt: PART-1\nLets say I am contemplating my choice of stay at either Downtown Toronto, Harbourfront at 10 Capreol Court, Toronto, ON, Canada Or at 10 Capreol Court, Toronto, ON, Canada. I like italian food and I am considering the number of resaturants around me as the basis of my choice. I would chose the one which has a greater number of restaurants around. For this I will be analyzing the venue data around my chosen neighborhoods and chose the right one based on the results. ", 
            "cell_type": "markdown", 
            "metadata": {
                "collapsed": true
            }
        }, 
        {
            "source": "Analysis: PART-2\nI will use FourSquare to get the list of restaurant venues at 10 Capreol Court, Toronto, ON, Canada and around 10 Capreol Court, Toronto, ON. Then I will visualize them arou", 
            "cell_type": "markdown", 
            "metadata": {}
        }
    ], 
    "metadata": {
        "kernelspec": {
            "display_name": "Python 3.5", 
            "name": "python3", 
            "language": "python"
        }, 
        "language_info": {
            "mimetype": "text/x-python", 
            "nbconvert_exporter": "python", 
            "version": "3.5.5", 
            "name": "python", 
            "file_extension": ".py", 
            "pygments_lexer": "ipython3", 
            "codemirror_mode": {
                "version": 3, 
                "name": "ipython"
            }
        }
    }, 
    "nbformat": 4
}