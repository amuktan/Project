{
    "nbformat_minor": 1, 
    "cells": [
        {
            "source": "# Capstone Project: Comparing available restaurant options around two chosen locations in Toronto.\n", 
            "cell_type": "markdown", 
            "metadata": {
                "collapsed": true
            }
        }, 
        {
            "source": "## Background and Problem:", 
            "cell_type": "markdown", 
            "metadata": {}
        }, 
        {
            "source": "Tom has just moved to Toronto for a new job. After consulting his colleagues he had finalized two nearest locations to his office.\nHe is confused between two locations which are:10 Capreol Court  Or at 10 York St.But, he is unable to make a decision \namong the two. Also, as he is new to the location he does not really know the available choices around the place. So, he has\nconsulted me to do an analysis around these neighborhoods. When, asked about what criteria is important to him, he has mentioned \nthat he usually eats outside and has said it would be better if the place had more italian restaurants around. So my job would be\nto do an analysis on this part.", 
            "cell_type": "markdown", 
            "metadata": {}
        }, 
        {
            "source": "## Data:\n", 
            "cell_type": "markdown", 
            "metadata": {}
        }, 
        {
            "source": "The following data will be used:\n    1. Latitudes and Longitudes of the locations 10 Capreol Court Or at 10 York St.\n    2. Foursqure will also be used to get the list of available restaurant venues around these neighborhood.\n    3. Geospatial maps from Foursquare will also be generated.\nThis data will be used to combine them and cluster and segment them into data based on the preferences mentioned by tom. Based on \nanalysis done a decision will be made on the results and would help in recommending a better place for tom to stay.", 
            "cell_type": "markdown", 
            "metadata": {}
        }, 
        {
            "source": "Analysis: PART-2\nI will use FourSquare to get the list of restaurant venues at 10 Capreol Court, Toronto, ON, Canada and around 10 Capreol Court, Toronto, ON. Then I will visualize them on maps to see their distance from my location and then I will be chosing the place which has more restaurants (which could give me more options).", 
            "cell_type": "markdown", 
            "metadata": {}
        }, 
        {
            "execution_count": null, 
            "cell_type": "code", 
            "metadata": {}, 
            "outputs": [], 
            "source": ""
        }, 
        {
            "execution_count": null, 
            "cell_type": "code", 
            "metadata": {}, 
            "outputs": [], 
            "source": "Lets say I am new to toronto and I have finalized two locations in my intial search \nbut I am contemplating my choice of stay at either Harbourfront at 10 Capreol Court, Toronto, ON, Canada Or at 10 Capreol Court, \nToronto, ON, Canada. I like italian food and I am considering the number of resaturants around me as the basis of my choice. \nI would chose the one which has a greater number of restaurants around. For this I will be analyzing the venue data \naround my chosen neighborhoods and chose the right one based on the results. "
        }, 
        {
            "execution_count": null, 
            "cell_type": "code", 
            "metadata": {}, 
            "outputs": [], 
            "source": ""
        }
    ], 
    "metadata": {
        "kernelspec": {
            "display_name": "Python 3.5", 
            "name": "python3", 
            "language": "python"
        }, 
        "language_info": {
            "mimetype": "text/x-python", 
            "nbconvert_exporter": "python", 
            "version": "3.5.5", 
            "name": "python", 
            "file_extension": ".py", 
            "pygments_lexer": "ipython3", 
            "codemirror_mode": {
                "version": 3, 
                "name": "ipython"
            }
        }
    }, 
    "nbformat": 4
}